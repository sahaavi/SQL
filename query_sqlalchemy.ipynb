{
 "cells": [
  {
   "cell_type": "code",
   "execution_count": 1,
   "id": "15ea91e4",
   "metadata": {},
   "outputs": [],
   "source": [
    "import sqlalchemy"
   ]
  },
  {
   "cell_type": "code",
   "execution_count": 2,
   "id": "e48211a9",
   "metadata": {},
   "outputs": [
    {
     "data": {
      "text/plain": [
       "'1.4.39'"
      ]
     },
     "execution_count": 2,
     "metadata": {},
     "output_type": "execute_result"
    }
   ],
   "source": [
    "sqlalchemy.__version__"
   ]
  },
  {
   "cell_type": "code",
   "execution_count": 3,
   "id": "aef3c01d",
   "metadata": {},
   "outputs": [],
   "source": [
    "# allows to make a connection to backend database\n",
    "from sqlalchemy import create_engine"
   ]
  },
  {
   "cell_type": "code",
   "execution_count": 4,
   "id": "6ed39953",
   "metadata": {},
   "outputs": [],
   "source": [
    "# allows to map different column attributes to object attributes\n",
    "from sqlalchemy import Column, String, Integer"
   ]
  },
  {
   "cell_type": "code",
   "execution_count": 5,
   "id": "97a6f302",
   "metadata": {},
   "outputs": [],
   "source": [
    "# allows to make declarations about how classes should be created\n",
    "from sqlalchemy.ext.declarative import declarative_base"
   ]
  },
  {
   "cell_type": "code",
   "execution_count": 6,
   "id": "53dfdf4c",
   "metadata": {},
   "outputs": [],
   "source": [
    "# allows to make that connection back to that engine that we created\n",
    "from sqlalchemy.orm import sessionmaker"
   ]
  },
  {
   "cell_type": "code",
   "execution_count": 7,
   "id": "66140f20",
   "metadata": {},
   "outputs": [],
   "source": [
    "db_conn_string = 'mssql+pyodbc://@AVISHEK\\SQLEXPRESS/ecommerce?driver=SQL+Server+Native+Client+11.0&trusted_connection=yes'\n",
    "engine = create_engine(db_conn_string)"
   ]
  },
  {
   "cell_type": "markdown",
   "id": "42f783be",
   "metadata": {},
   "source": [
    "the way SQLAlchemy works is once we have created this object, this session object, we actually need to treat that as a function and call that. And that will actually create the session, the functional session that we're working with. So we'll have another variable called session and that's going to be the value that is returned by invoking that session we just created. There. Now, so we do have a connection to our database."
   ]
  },
  {
   "cell_type": "code",
   "execution_count": 8,
   "id": "41c3e151",
   "metadata": {},
   "outputs": [],
   "source": [
    "Session = sessionmaker(engine)\n",
    "session = Session()"
   ]
  },
  {
   "cell_type": "code",
   "execution_count": 9,
   "id": "1a0e46b8",
   "metadata": {},
   "outputs": [],
   "source": [
    "base = declarative_base()"
   ]
  },
  {
   "cell_type": "code",
   "execution_count": 10,
   "id": "052266f1",
   "metadata": {},
   "outputs": [
    {
     "data": {
      "text/plain": [
       "sqlalchemy.orm.decl_api.Base"
      ]
     },
     "execution_count": 10,
     "metadata": {},
     "output_type": "execute_result"
    }
   ],
   "source": [
    "base"
   ]
  },
  {
   "cell_type": "code",
   "execution_count": 11,
   "id": "39d796b3",
   "metadata": {},
   "outputs": [],
   "source": [
    "class Product(base):\n",
    "    __tablename__ = 'products'\n",
    "    product_id = Column(Integer, primary_key=True)\n",
    "    product_name = Column(String)\n",
    "    product_type = Column(String)"
   ]
  },
  {
   "cell_type": "code",
   "execution_count": 12,
   "id": "7a0f97df",
   "metadata": {},
   "outputs": [],
   "source": [
    "products = session.query(Product)"
   ]
  },
  {
   "cell_type": "code",
   "execution_count": 13,
   "id": "1a58cc74",
   "metadata": {},
   "outputs": [
    {
     "data": {
      "text/plain": [
       "<sqlalchemy.orm.query.Query at 0x17ba706b310>"
      ]
     },
     "execution_count": 13,
     "metadata": {},
     "output_type": "execute_result"
    }
   ],
   "source": [
    "products"
   ]
  },
  {
   "cell_type": "code",
   "execution_count": 16,
   "id": "145100fe",
   "metadata": {},
   "outputs": [
    {
     "name": "stdout",
     "output_type": "stream",
     "text": [
      "Reflector oven\n",
      "Convection microwave\n",
      "Pressure fryer\n",
      "Multicooker\n",
      "Food steamer\n",
      "Chapati maker\n",
      "Mess kit\n",
      "Rotisserie\n",
      "Sous-vide cooker\n",
      "Rocket mass heater\n",
      "Cheesemelter\n",
      "Hot plate\n",
      "Flattop grill\n",
      "Wet grinder\n",
      "Masonry oven\n",
      "Chocolatera\n",
      "Turkey fryer\n",
      "Bread machine\n",
      "Roasting jack\n",
      "Brasero (heater)\n",
      "Susceptor\n",
      "Slow cooker\n",
      "Butane torch\n",
      "Microwave oven\n",
      "Solar cooker\n",
      "Deep fryer\n",
      "Popcorn maker\n",
      "Russian oven\n",
      "Clome oven\n",
      "Convection oven\n",
      "Beehive oven\n",
      "Toaster and toaster ovens\n",
      "Field kitchen\n",
      "Corn roaster\n",
      "Self-cleaning oven\n",
      "Wood-fired oven\n",
      "Kitchener range\n",
      "Rice polisher\n",
      "Soy milk maker\n",
      "Crepe maker\n",
      "Oven\n",
      "Hot box (appliance)\n",
      "Combi steamer\n",
      "Rice cooker\n",
      "Fire pot\n",
      "Salamander broiler\n",
      "Vacuum fryer\n",
      "Fufu Machine\n",
      "Tabun oven\n",
      "Pancake machine\n",
      "Barbecue grill\n",
      "Panini sandwich grill\n",
      "Air fryer\n",
      "Chorkor oven\n",
      "Communal oven\n",
      "Pressure cooker\n",
      "Halogen oven\n",
      "Instant Pot\n",
      "Waffle iron\n",
      "Stove\n",
      "Earth oven\n",
      "Electric cooker\n",
      "Espresso machine\n",
      "Coffee pot\n"
     ]
    }
   ],
   "source": [
    "for product in products:\n",
    "    print(product.product_name)"
   ]
  },
  {
   "cell_type": "code",
   "execution_count": 19,
   "id": "231fc78c",
   "metadata": {},
   "outputs": [
    {
     "name": "stdout",
     "output_type": "stream",
     "text": [
      "Pressure fryer\n",
      "Turkey fryer\n",
      "Deep fryer\n",
      "Vacuum fryer\n",
      "Air fryer\n"
     ]
    }
   ],
   "source": [
    "products = session.query(Product).filter(Product.product_type=='fryer')\n",
    "print(*(product.product_name for product in products), sep='\\n')"
   ]
  },
  {
   "cell_type": "code",
   "execution_count": null,
   "id": "d60512fc",
   "metadata": {},
   "outputs": [],
   "source": []
  }
 ],
 "metadata": {
  "kernelspec": {
   "display_name": "Python 3 (ipykernel)",
   "language": "python",
   "name": "python3"
  },
  "language_info": {
   "codemirror_mode": {
    "name": "ipython",
    "version": 3
   },
   "file_extension": ".py",
   "mimetype": "text/x-python",
   "name": "python",
   "nbconvert_exporter": "python",
   "pygments_lexer": "ipython3",
   "version": "3.9.13"
  }
 },
 "nbformat": 4,
 "nbformat_minor": 5
}
